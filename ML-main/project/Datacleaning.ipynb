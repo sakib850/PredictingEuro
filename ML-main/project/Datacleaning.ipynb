{
 "cells": [
  {
   "cell_type": "code",
   "execution_count": 1,
   "metadata": {},
   "outputs": [],
   "source": [
    "import pandas as pd"
   ]
  },
  {
   "cell_type": "code",
   "execution_count": 2,
   "metadata": {},
   "outputs": [],
   "source": [
    "#reading the csv files for cleaning of the data\n",
    "df_historical_data =pd.read_csv('UEFA_Euro_Historical_data.csv')\n",
    "df_fixture = pd.read_csv('UEFA_Euro_Fixtures.csv')\n",
    "df_missing_data = pd.read_csv('UEFA_Euro_Historical_missing_data.csv')"
   ]
  },
  {
   "cell_type": "code",
   "execution_count": 3,
   "metadata": {},
   "outputs": [],
   "source": [
    "#removing unwanted trailing and starting spaces from the columns\n",
    "df_fixture['home']=df_fixture['home'].str.strip()\n",
    "df_fixture['away']=df_fixture['away'].str.strip()"
   ]
  },
  {
   "cell_type": "code",
   "execution_count": 4,
   "metadata": {},
   "outputs": [
    {
     "data": {
      "text/html": [
       "<div>\n",
       "<style scoped>\n",
       "    .dataframe tbody tr th:only-of-type {\n",
       "        vertical-align: middle;\n",
       "    }\n",
       "\n",
       "    .dataframe tbody tr th {\n",
       "        vertical-align: top;\n",
       "    }\n",
       "\n",
       "    .dataframe thead th {\n",
       "        text-align: right;\n",
       "    }\n",
       "</style>\n",
       "<table border=\"1\" class=\"dataframe\">\n",
       "  <thead>\n",
       "    <tr style=\"text-align: right;\">\n",
       "      <th></th>\n",
       "      <th>home</th>\n",
       "      <th>away</th>\n",
       "      <th>Year</th>\n",
       "      <th>HomeGoals</th>\n",
       "      <th>AwayGoals</th>\n",
       "    </tr>\n",
       "  </thead>\n",
       "  <tbody>\n",
       "  </tbody>\n",
       "</table>\n",
       "</div>"
      ],
      "text/plain": [
       "Empty DataFrame\n",
       "Columns: [home, away, Year, HomeGoals, AwayGoals]\n",
       "Index: []"
      ]
     },
     "execution_count": 4,
     "metadata": {},
     "output_type": "execute_result"
    }
   ],
   "source": [
    "# removing the null values from the columns\n",
    "df_missing_data[df_missing_data['home'].isnull()]\n",
    "df_missing_data[df_missing_data['away'].isnull()]"
   ]
  },
  {
   "cell_type": "code",
   "execution_count": 5,
   "metadata": {},
   "outputs": [
    {
     "data": {
      "text/html": [
       "<div>\n",
       "<style scoped>\n",
       "    .dataframe tbody tr th:only-of-type {\n",
       "        vertical-align: middle;\n",
       "    }\n",
       "\n",
       "    .dataframe tbody tr th {\n",
       "        vertical-align: top;\n",
       "    }\n",
       "\n",
       "    .dataframe thead th {\n",
       "        text-align: right;\n",
       "    }\n",
       "</style>\n",
       "<table border=\"1\" class=\"dataframe\">\n",
       "  <thead>\n",
       "    <tr style=\"text-align: right;\">\n",
       "      <th></th>\n",
       "      <th>home</th>\n",
       "      <th>away</th>\n",
       "      <th>Year</th>\n",
       "      <th>HomeGoals</th>\n",
       "      <th>AwayGoals</th>\n",
       "    </tr>\n",
       "  </thead>\n",
       "  <tbody>\n",
       "    <tr>\n",
       "      <th>0</th>\n",
       "      <td>France</td>\n",
       "      <td>Yugoslavia</td>\n",
       "      <td>1960</td>\n",
       "      <td>4</td>\n",
       "      <td>5</td>\n",
       "    </tr>\n",
       "    <tr>\n",
       "      <th>1</th>\n",
       "      <td>Czechoslovakia</td>\n",
       "      <td>Soviet Union</td>\n",
       "      <td>1960</td>\n",
       "      <td>0</td>\n",
       "      <td>3</td>\n",
       "    </tr>\n",
       "    <tr>\n",
       "      <th>2</th>\n",
       "      <td>Czechoslovakia</td>\n",
       "      <td>France</td>\n",
       "      <td>1960</td>\n",
       "      <td>2</td>\n",
       "      <td>0</td>\n",
       "    </tr>\n",
       "    <tr>\n",
       "      <th>3</th>\n",
       "      <td>Soviet Union</td>\n",
       "      <td>Yugoslavia</td>\n",
       "      <td>1960</td>\n",
       "      <td>2</td>\n",
       "      <td>1</td>\n",
       "    </tr>\n",
       "    <tr>\n",
       "      <th>4</th>\n",
       "      <td>Spain</td>\n",
       "      <td>Hungary</td>\n",
       "      <td>1964</td>\n",
       "      <td>2</td>\n",
       "      <td>1</td>\n",
       "    </tr>\n",
       "    <tr>\n",
       "      <th>...</th>\n",
       "      <td>...</td>\n",
       "      <td>...</td>\n",
       "      <td>...</td>\n",
       "      <td>...</td>\n",
       "      <td>...</td>\n",
       "    </tr>\n",
       "    <tr>\n",
       "      <th>301</th>\n",
       "      <td>Croatia</td>\n",
       "      <td>Czech Republic</td>\n",
       "      <td>2020</td>\n",
       "      <td>1</td>\n",
       "      <td>1</td>\n",
       "    </tr>\n",
       "    <tr>\n",
       "      <th>302</th>\n",
       "      <td>England</td>\n",
       "      <td>Scotland</td>\n",
       "      <td>2020</td>\n",
       "      <td>0</td>\n",
       "      <td>0</td>\n",
       "    </tr>\n",
       "    <tr>\n",
       "      <th>303</th>\n",
       "      <td>Croatia</td>\n",
       "      <td>Scotland</td>\n",
       "      <td>2020</td>\n",
       "      <td>3</td>\n",
       "      <td>1</td>\n",
       "    </tr>\n",
       "    <tr>\n",
       "      <th>305</th>\n",
       "      <td>Poland</td>\n",
       "      <td>Slovakia</td>\n",
       "      <td>2020</td>\n",
       "      <td>1</td>\n",
       "      <td>2</td>\n",
       "    </tr>\n",
       "    <tr>\n",
       "      <th>331</th>\n",
       "      <td>Italy</td>\n",
       "      <td>England</td>\n",
       "      <td>2020</td>\n",
       "      <td>1</td>\n",
       "      <td>1</td>\n",
       "    </tr>\n",
       "  </tbody>\n",
       "</table>\n",
       "<p>332 rows × 5 columns</p>\n",
       "</div>"
      ],
      "text/plain": [
       "                home             away  Year  HomeGoals  AwayGoals\n",
       "0            France        Yugoslavia  1960          4          5\n",
       "1    Czechoslovakia      Soviet Union  1960          0          3\n",
       "2    Czechoslovakia            France  1960          2          0\n",
       "3      Soviet Union        Yugoslavia  1960          2          1\n",
       "4             Spain           Hungary  1964          2          1\n",
       "..               ...              ...   ...        ...        ...\n",
       "301         Croatia    Czech Republic  2020          1          1\n",
       "302         England          Scotland  2020          0          0\n",
       "303         Croatia          Scotland  2020          3          1\n",
       "305          Poland          Slovakia  2020          1          2\n",
       "331           Italy           England  2020          1          1\n",
       "\n",
       "[332 rows x 5 columns]"
      ]
     },
     "execution_count": 5,
     "metadata": {},
     "output_type": "execute_result"
    }
   ],
   "source": [
    "# merging missing data and historical data droping the duplicates\n",
    "df_historical_data = pd.concat([df_historical_data,df_missing_data],ignore_index=True)\n",
    "df_historical_data.drop_duplicates(inplace=True)\n",
    "df_historical_data.sort_values('Year',inplace=True)\n",
    "df_historical_data "
   ]
  },
  {
   "cell_type": "code",
   "execution_count": 6,
   "metadata": {},
   "outputs": [
    {
     "data": {
      "text/plain": [
       "home         object\n",
       "away         object\n",
       "Year          int64\n",
       "HomeGoals     int64\n",
       "AwayGoals     int64\n",
       "dtype: object"
      ]
     },
     "metadata": {},
     "output_type": "display_data"
    }
   ],
   "source": [
    "# df_historical_data['HomeGoals'].astype(int)\n",
    "display(df_historical_data.dtypes)"
   ]
  },
  {
   "cell_type": "code",
   "execution_count": 7,
   "metadata": {},
   "outputs": [
    {
     "data": {
      "text/html": [
       "<div>\n",
       "<style scoped>\n",
       "    .dataframe tbody tr th:only-of-type {\n",
       "        vertical-align: middle;\n",
       "    }\n",
       "\n",
       "    .dataframe tbody tr th {\n",
       "        vertical-align: top;\n",
       "    }\n",
       "\n",
       "    .dataframe thead th {\n",
       "        text-align: right;\n",
       "    }\n",
       "</style>\n",
       "<table border=\"1\" class=\"dataframe\">\n",
       "  <thead>\n",
       "    <tr style=\"text-align: right;\">\n",
       "      <th></th>\n",
       "      <th>home</th>\n",
       "      <th>away</th>\n",
       "      <th>Year</th>\n",
       "      <th>HomeGoals</th>\n",
       "      <th>AwayGoals</th>\n",
       "    </tr>\n",
       "  </thead>\n",
       "  <tbody>\n",
       "    <tr>\n",
       "      <th>0</th>\n",
       "      <td>France</td>\n",
       "      <td>Yugoslavia</td>\n",
       "      <td>1960</td>\n",
       "      <td>4</td>\n",
       "      <td>5</td>\n",
       "    </tr>\n",
       "    <tr>\n",
       "      <th>1</th>\n",
       "      <td>Czechoslovakia</td>\n",
       "      <td>Soviet Union</td>\n",
       "      <td>1960</td>\n",
       "      <td>0</td>\n",
       "      <td>3</td>\n",
       "    </tr>\n",
       "    <tr>\n",
       "      <th>2</th>\n",
       "      <td>Czechoslovakia</td>\n",
       "      <td>France</td>\n",
       "      <td>1960</td>\n",
       "      <td>2</td>\n",
       "      <td>0</td>\n",
       "    </tr>\n",
       "    <tr>\n",
       "      <th>3</th>\n",
       "      <td>Soviet Union</td>\n",
       "      <td>Yugoslavia</td>\n",
       "      <td>1960</td>\n",
       "      <td>2</td>\n",
       "      <td>1</td>\n",
       "    </tr>\n",
       "    <tr>\n",
       "      <th>4</th>\n",
       "      <td>Spain</td>\n",
       "      <td>Hungary</td>\n",
       "      <td>1964</td>\n",
       "      <td>2</td>\n",
       "      <td>1</td>\n",
       "    </tr>\n",
       "    <tr>\n",
       "      <th>...</th>\n",
       "      <td>...</td>\n",
       "      <td>...</td>\n",
       "      <td>...</td>\n",
       "      <td>...</td>\n",
       "      <td>...</td>\n",
       "    </tr>\n",
       "    <tr>\n",
       "      <th>301</th>\n",
       "      <td>Croatia</td>\n",
       "      <td>Czech Republic</td>\n",
       "      <td>2020</td>\n",
       "      <td>1</td>\n",
       "      <td>1</td>\n",
       "    </tr>\n",
       "    <tr>\n",
       "      <th>302</th>\n",
       "      <td>England</td>\n",
       "      <td>Scotland</td>\n",
       "      <td>2020</td>\n",
       "      <td>0</td>\n",
       "      <td>0</td>\n",
       "    </tr>\n",
       "    <tr>\n",
       "      <th>303</th>\n",
       "      <td>Croatia</td>\n",
       "      <td>Scotland</td>\n",
       "      <td>2020</td>\n",
       "      <td>3</td>\n",
       "      <td>1</td>\n",
       "    </tr>\n",
       "    <tr>\n",
       "      <th>305</th>\n",
       "      <td>Poland</td>\n",
       "      <td>Slovakia</td>\n",
       "      <td>2020</td>\n",
       "      <td>1</td>\n",
       "      <td>2</td>\n",
       "    </tr>\n",
       "    <tr>\n",
       "      <th>331</th>\n",
       "      <td>Italy</td>\n",
       "      <td>England</td>\n",
       "      <td>2020</td>\n",
       "      <td>1</td>\n",
       "      <td>1</td>\n",
       "    </tr>\n",
       "  </tbody>\n",
       "</table>\n",
       "<p>332 rows × 5 columns</p>\n",
       "</div>"
      ],
      "text/plain": [
       "                home             away  Year  HomeGoals  AwayGoals\n",
       "0            France        Yugoslavia  1960          4          5\n",
       "1    Czechoslovakia      Soviet Union  1960          0          3\n",
       "2    Czechoslovakia            France  1960          2          0\n",
       "3      Soviet Union        Yugoslavia  1960          2          1\n",
       "4             Spain           Hungary  1964          2          1\n",
       "..               ...              ...   ...        ...        ...\n",
       "301         Croatia    Czech Republic  2020          1          1\n",
       "302         England          Scotland  2020          0          0\n",
       "303         Croatia          Scotland  2020          3          1\n",
       "305          Poland          Slovakia  2020          1          2\n",
       "331           Italy           England  2020          1          1\n",
       "\n",
       "[332 rows x 5 columns]"
      ]
     },
     "execution_count": 7,
     "metadata": {},
     "output_type": "execute_result"
    }
   ],
   "source": [
    "#droping the null values\n",
    "df_historical_data=df_historical_data.dropna()\n",
    "df_historical_data"
   ]
  },
  {
   "cell_type": "code",
   "execution_count": 8,
   "metadata": {},
   "outputs": [],
   "source": [
    "#changing the float datatype into int64\n",
    "df_historical_data['AwayGoals']= df_historical_data['AwayGoals'].astype('Int64')\n",
    "df_historical_data['HomeGoals']= df_historical_data['HomeGoals'].astype('Int64')\n",
    "df_historical_data['Year']= df_historical_data['Year'].astype('Int64')"
   ]
  },
  {
   "cell_type": "code",
   "execution_count": 9,
   "metadata": {},
   "outputs": [
    {
     "data": {
      "text/plain": [
       "home         object\n",
       "away         object\n",
       "Year          Int64\n",
       "HomeGoals     Int64\n",
       "AwayGoals     Int64\n",
       "dtype: object"
      ]
     },
     "metadata": {},
     "output_type": "display_data"
    }
   ],
   "source": [
    "#displaying datatypes\n",
    "display(df_historical_data.dtypes)"
   ]
  },
  {
   "cell_type": "code",
   "execution_count": 10,
   "metadata": {},
   "outputs": [],
   "source": [
    "#renaming the columns\n",
    "df_historical_data.rename(columns={'home':'HomeTeam','away':'AwayTeam','year':'Year'},inplace=True)"
   ]
  },
  {
   "cell_type": "code",
   "execution_count": 11,
   "metadata": {},
   "outputs": [],
   "source": [
    "#making a new column of TotalGoals\n",
    "df_historical_data['TotalGoals']=df_historical_data['HomeGoals']+df_historical_data['AwayGoals']"
   ]
  },
  {
   "cell_type": "code",
   "execution_count": 12,
   "metadata": {},
   "outputs": [
    {
     "name": "stdout",
     "output_type": "stream",
     "text": [
      "            HomeTeam         AwayTeam  Year  HomeGoals  AwayGoals  TotalGoals\n",
      "0            France        Yugoslavia  1960          4          5           9\n",
      "1    Czechoslovakia      Soviet Union  1960          0          3           3\n",
      "2    Czechoslovakia            France  1960          2          0           2\n",
      "3      Soviet Union        Yugoslavia  1960          2          1           3\n",
      "4             Spain           Hungary  1964          2          1           3\n",
      "..               ...              ...   ...        ...        ...         ...\n",
      "301         Croatia    Czech Republic  2020          1          1           2\n",
      "302         England          Scotland  2020          0          0           0\n",
      "303         Croatia          Scotland  2020          3          1           4\n",
      "305          Poland          Slovakia  2020          1          2           3\n",
      "331           Italy           England  2020          1          1           2\n",
      "\n",
      "[332 rows x 6 columns]\n"
     ]
    }
   ],
   "source": [
    "print(df_historical_data)"
   ]
  },
  {
   "cell_type": "markdown",
   "metadata": {},
   "source": [
    "Exporting the cleaned dataframe"
   ]
  },
  {
   "cell_type": "code",
   "execution_count": 13,
   "metadata": {},
   "outputs": [],
   "source": [
    "df_historical_data.to_csv('UEFA_Euro_Historical_data_cleaned.csv',index=False)\n",
    "df_fixture.to_csv('UEFA_Euro_Fixtures_cleaned.csv',index=False)"
   ]
  },
  {
   "cell_type": "markdown",
   "metadata": {},
   "source": [
    "Verifications"
   ]
  },
  {
   "cell_type": "code",
   "execution_count": 14,
   "metadata": {},
   "outputs": [
    {
     "name": "stdout",
     "output_type": "stream",
     "text": [
      "1960 4\n",
      "1964 4\n",
      "1968 0\n",
      "1972 4\n",
      "1976 4\n",
      "1980 14\n",
      "1984 15\n",
      "1988 15\n",
      "1992 15\n",
      "1996 31\n",
      "2000 31\n",
      "2004 31\n",
      "2008 31\n",
      "2012 31\n",
      "2016 51\n",
      "2020 51\n"
     ]
    }
   ],
   "source": [
    "years = [1960,1964,1968,1972,1976,1980,1984,1988,1992,1996,2000,2004,2008,2012,2016,2020]\n",
    "for year in years:\n",
    "    print(year,len(df_historical_data[df_historical_data['Year']==year]))"
   ]
  }
 ],
 "metadata": {
  "kernelspec": {
   "display_name": "Python 3",
   "language": "python",
   "name": "python3"
  },
  "language_info": {
   "codemirror_mode": {
    "name": "ipython",
    "version": 3
   },
   "file_extension": ".py",
   "mimetype": "text/x-python",
   "name": "python",
   "nbconvert_exporter": "python",
   "pygments_lexer": "ipython3",
   "version": "3.12.0"
  }
 },
 "nbformat": 4,
 "nbformat_minor": 2
}
